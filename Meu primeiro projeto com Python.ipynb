{
 "cells": [
  {
   "cell_type": "markdown",
   "id": "07e4a337",
   "metadata": {},
   "source": [
    "# Semana do Python na Prática"
   ]
  },
  {
   "cell_type": "markdown",
   "id": "5c23fe63",
   "metadata": {},
   "source": [
    "## Meu primeiro Projeto com Python"
   ]
  },
  {
   "cell_type": "markdown",
   "id": "9b146ca4",
   "metadata": {},
   "source": [
    "O melhor programador, é aquele que conhece os conceitos e funcionalidades de qualquer liguagem para a solução de problemas."
   ]
  },
  {
   "cell_type": "markdown",
   "id": "3cef6fd0",
   "metadata": {},
   "source": [
    "## Mostrando informações para o usuário"
   ]
  },
  {
   "cell_type": "code",
   "execution_count": 4,
   "id": "cdeaffbe",
   "metadata": {},
   "outputs": [
    {
     "name": "stdout",
     "output_type": "stream",
     "text": [
      "Semana do Python na Prática\n",
      "Meu nome é Renar\n",
      "Quero muito apreder a programar em Python\n"
     ]
    }
   ],
   "source": [
    "print(\"Semana do Python na Prática\")\n",
    "print(\"Meu nome é Renar\")\n",
    "print(\"Quero muito apreder a programar em Python\")"
   ]
  },
  {
   "cell_type": "markdown",
   "id": "b0126912",
   "metadata": {},
   "source": [
    "## Entrada de dados do usuário"
   ]
  },
  {
   "cell_type": "code",
   "execution_count": 7,
   "id": "0b7f3697",
   "metadata": {},
   "outputs": [
    {
     "name": "stdout",
     "output_type": "stream",
     "text": [
      "Digite o seu nome: Renar\n",
      "Qual liguagem você está aprendendo? Python, e JavaScript\n"
     ]
    },
    {
     "data": {
      "text/plain": [
       "'Python, e JavaScript'"
      ]
     },
     "execution_count": 7,
     "metadata": {},
     "output_type": "execute_result"
    }
   ],
   "source": [
    "input(\"Digite o seu nome: \")\n",
    "input(\"Qual liguagem você está aprendendo? \")"
   ]
  },
  {
   "cell_type": "markdown",
   "id": "30a9b582",
   "metadata": {},
   "source": [
    "## Armazenando dados em uma variável"
   ]
  },
  {
   "cell_type": "code",
   "execution_count": 9,
   "id": "ce003f5f",
   "metadata": {},
   "outputs": [
    {
     "name": "stdout",
     "output_type": "stream",
     "text": [
      "Digite o seu nome: Renar\n",
      "Qual a liguagem você está aprendendo? Python\n"
     ]
    }
   ],
   "source": [
    "nome = input(\"Digite o seu nome: \")\n",
    "linguagem = input(\"Qual a liguagem você está aprendendo? \")"
   ]
  },
  {
   "cell_type": "code",
   "execution_count": 11,
   "id": "26a7c7b0",
   "metadata": {},
   "outputs": [
    {
     "name": "stdout",
     "output_type": "stream",
     "text": [
      "Renar\n",
      "Python\n"
     ]
    }
   ],
   "source": [
    "print(nome)\n",
    "print(linguagem)"
   ]
  },
  {
   "cell_type": "code",
   "execution_count": 23,
   "id": "14974a68",
   "metadata": {},
   "outputs": [
    {
     "name": "stdout",
     "output_type": "stream",
     "text": [
      "Digite a descrição do projeto: Desenvolvimento Sistema Python\n",
      "Digite a quantidade de horas previstas: 200\n",
      "Digite o valor da hora trabalhada: 200\n",
      "Digite o prazo do projeto: 3 meses\n"
     ]
    }
   ],
   "source": [
    "projeto = input(\"Digite a descrição do projeto: \")\n",
    "horas_previstas = input(\"Digite a quantidade de horas previstas: \")\n",
    "valor_hora = input(\"Digite o valor da hora trabalhada: \")\n",
    "prazo = input(\"Digite o prazo do projeto: \")"
   ]
  },
  {
   "cell_type": "code",
   "execution_count": 26,
   "id": "e0cfb243",
   "metadata": {},
   "outputs": [
    {
     "name": "stdout",
     "output_type": "stream",
     "text": [
      "Desenvolvimento Sistema Python ; 200 R$ 200 ; 3 meses\n"
     ]
    }
   ],
   "source": [
    "print(projeto,\";\", horas_previstas, \"R$\", valor_hora, \";\",prazo)"
   ]
  },
  {
   "cell_type": "markdown",
   "id": "308bc626",
   "metadata": {},
   "source": [
    "## Realizando cálculos na linguagem Python\n",
    "Valor total do projeto = horas previstas * valor dsa hora"
   ]
  },
  {
   "cell_type": "code",
   "execution_count": 29,
   "id": "0cc3294b",
   "metadata": {},
   "outputs": [
    {
     "name": "stdout",
     "output_type": "stream",
     "text": [
      "40000\n"
     ]
    }
   ],
   "source": [
    "valor_total = int(valor_hora) * int(horas_previstas)\n",
    "print(valor_total)"
   ]
  },
  {
   "cell_type": "markdown",
   "id": "dcb4cde2",
   "metadata": {},
   "source": [
    "## Tipos de dados- Textos: str\n",
    "\n",
    "- Texto: str\n",
    "- Números: int"
   ]
  },
  {
   "cell_type": "code",
   "execution_count": 20,
   "id": "c69cccd4",
   "metadata": {},
   "outputs": [
    {
     "data": {
      "text/plain": [
       "int"
      ]
     },
     "execution_count": 20,
     "metadata": {},
     "output_type": "execute_result"
    }
   ],
   "source": [
    "type(int(\"10\"))"
   ]
  },
  {
   "cell_type": "markdown",
   "id": "8d07a7d5",
   "metadata": {},
   "source": [
    "## Gerando PDF do Orçamento"
   ]
  },
  {
   "cell_type": "code",
   "execution_count": 31,
   "id": "290924fd",
   "metadata": {},
   "outputs": [
    {
     "name": "stdout",
     "output_type": "stream",
     "text": [
      "Defaulting to user installation because normal site-packages is not writeable\n",
      "Collecting fpdf\n",
      "  Downloading fpdf-1.7.2.tar.gz (39 kB)\n",
      "  Preparing metadata (setup.py) ... \u001b[?25ldone\n",
      "\u001b[?25hBuilding wheels for collected packages: fpdf\n",
      "  Building wheel for fpdf (setup.py) ... \u001b[?25ldone\n",
      "\u001b[?25h  Created wheel for fpdf: filename=fpdf-1.7.2-py2.py3-none-any.whl size=40725 sha256=50050d21e521a1d8d93c8bb3e083904859dbb9ed7cd72dca1f23f2d295eb76f8\n",
      "  Stored in directory: /home/renar/.cache/pip/wheels/f9/95/ba/f418094659025eb9611f17cbcaf2334236bf39a0c3453ea455\n",
      "Successfully built fpdf\n",
      "Installing collected packages: fpdf\n",
      "Successfully installed fpdf-1.7.2\n"
     ]
    }
   ],
   "source": [
    "!pip install fpdf"
   ]
  },
  {
   "cell_type": "code",
   "execution_count": 32,
   "id": "16ac0e3d",
   "metadata": {},
   "outputs": [],
   "source": [
    "from fpdf import FPDF"
   ]
  },
  {
   "cell_type": "code",
   "execution_count": 45,
   "id": "e02e7d89",
   "metadata": {},
   "outputs": [
    {
     "name": "stdout",
     "output_type": "stream",
     "text": [
      "Orçamento gerado com sucesso!\n"
     ]
    }
   ],
   "source": [
    "pdf = FPDF()\n",
    "\n",
    "pdf.add_page()\n",
    "pdf.set_font(\"Arial\")\n",
    "\n",
    "pdf.image(\"template.png\", x=0, y=0)\n",
    "\n",
    "pdf.text(115, 145, projeto)\n",
    "pdf.text(115, 160, horas_previstas)\n",
    "pdf.text(115, 175, valor_hora)\n",
    "pdf.text(115, 190, prazo)\n",
    "pdf.text(115, 205, str(valor_total))\n",
    "\n",
    "pdf.output(\"orçamento.pdf\")\n",
    "\n",
    "print(\"Orçamento gerado com sucesso!\")"
   ]
  },
  {
   "cell_type": "code",
   "execution_count": null,
   "id": "2a621579",
   "metadata": {},
   "outputs": [],
   "source": []
  },
  {
   "cell_type": "code",
   "execution_count": null,
   "id": "4824536a",
   "metadata": {},
   "outputs": [],
   "source": []
  },
  {
   "cell_type": "code",
   "execution_count": null,
   "id": "dd6d0b4e",
   "metadata": {},
   "outputs": [],
   "source": []
  },
  {
   "cell_type": "code",
   "execution_count": null,
   "id": "a5d10e0b",
   "metadata": {},
   "outputs": [],
   "source": []
  },
  {
   "cell_type": "code",
   "execution_count": null,
   "id": "8a182fef",
   "metadata": {},
   "outputs": [],
   "source": []
  }
 ],
 "metadata": {
  "kernelspec": {
   "display_name": "Python 3 (ipykernel)",
   "language": "python",
   "name": "python3"
  },
  "language_info": {
   "codemirror_mode": {
    "name": "ipython",
    "version": 3
   },
   "file_extension": ".py",
   "mimetype": "text/x-python",
   "name": "python",
   "nbconvert_exporter": "python",
   "pygments_lexer": "ipython3",
   "version": "3.10.12"
  }
 },
 "nbformat": 4,
 "nbformat_minor": 5
}
